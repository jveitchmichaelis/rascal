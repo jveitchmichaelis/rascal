{
 "cells": [
  {
   "cell_type": "markdown",
   "metadata": {},
   "source": [
    "This notebook attempts to port results from: https://www.tandfonline.com/doi/abs/10.1080/00949655.2016.1139582?journalCode=gscs20\n",
    "\n",
    "as in: https://github.com/cran/MonoPoly/"
   ]
  },
  {
   "cell_type": "code",
   "execution_count": 6,
   "metadata": {},
   "outputs": [],
   "source": [
    "import numpy as np\n",
    "import scipy\n",
    "import math\n",
    "import matplotlib.pyplot as plt\n",
    "from scipy.optimize import minimize"
   ]
  },
  {
   "cell_type": "code",
   "execution_count": 157,
   "metadata": {},
   "outputs": [],
   "source": [
    "# Residual sum of squares\n",
    "\n",
    "def make_rss(x, y, alpha=1, w=None):\n",
    "    \"\"\"\n",
    "    Construct the objective function (residual sum of squares)\n",
    "    \"\"\"\n",
    "    \n",
    "    if w is None:\n",
    "        w = np.ones_like(x)\n",
    "        \n",
    "    def rss(p0):    \n",
    "        fit = eval_pol_sos(x, p0, alpha)\n",
    "        return np.sum(w*(y - fit)**2) + np.sum(p0)**2\n",
    "    \n",
    "    return rss\n",
    "\n",
    "def eval_pol_sos(x, p0, alpha=1):\n",
    "    \"\"\"\n",
    "    Evaluate the poylnomial with coefficients p0\n",
    "    \n",
    "    \"\"\"\n",
    "    beta = eval_coef_sos(p0, alpha)\n",
    "    return eval_pol(x, beta)\n",
    "\n",
    "def eval_coef_sos(p0, alpha=1):\n",
    "    \"\"\"\n",
    "    Convert objective function coefficients to beta notation (split polynomial)\n",
    "    \n",
    "    \"\"\"\n",
    "    assert len(p0) > 3\n",
    "    \n",
    "    delta = p0[0]\n",
    "    degree = (len(p0)-1)//2\n",
    "    \n",
    "    if degree == 0:\n",
    "        res = [delta, alpha*p0[1]]\n",
    "    else:        \n",
    "        beta_1 = p0[1:degree+1]\n",
    "        beta_2 = p0[degree+1:]\n",
    "        \n",
    "        assert len(beta_1) == len(beta_2)\n",
    "        \n",
    "        res = np.convolve(beta_1, beta_1[::-1], mode=\"same\")\n",
    "        res += np.convolve(beta_2, beta_2[::-1], mode=\"same\")\n",
    "        \n",
    "        res = alpha*res/np.arange(1,len(res)+1)\n",
    "    \n",
    "    return res\n",
    "\n",
    "def eval_pol(x, p0):\n",
    "    res = 0\n",
    "    for p in p0[::-1]:\n",
    "        res = res*x + p\n",
    "        \n",
    "    return res"
   ]
  },
  {
   "cell_type": "code",
   "execution_count": 158,
   "metadata": {},
   "outputs": [],
   "source": [
    "def make_grad(x, y, alpha=1, w=None):\n",
    "    \"\"\"\n",
    "    Returns the gradient of the objective function\n",
    "    for (x, y) with respect to parameters theta\n",
    "    \n",
    "    \"\"\"\n",
    "    \n",
    "    if w is None:\n",
    "        w = np.ones_like(x)\n",
    "        \n",
    "    def grad(p0):\n",
    "        grad = eval_grad_pol_sos(x, p0, alpha)\n",
    "        fit = eval_pol_sos(x, p0)\n",
    "        temp = -2*w*(y - fit)\n",
    "        \n",
    "        return np.sum(grad*temp.reshape((-1,1)), axis=0)\n",
    "    \n",
    "    return grad\n",
    "\n",
    "def eval_grad_pol_sos(x, p0, alpha=1):\n",
    "    \"\"\"\n",
    "    Computes the gradient vector\n",
    "    \n",
    "    \"\"\"\n",
    "    coeff = eval_grad_coeff_sos(p0, alpha)\n",
    "    res = np.zeros((len(x), len(coeff)+1))\n",
    "    \n",
    "    # Gradient with respect to delta is always 1\n",
    "    res[:,0] = 1\n",
    "    \n",
    "    for i, c in enumerate(coeff):\n",
    "        pc = c\n",
    "        order = len(c)-1\n",
    "        tmp = pc[order]*x\n",
    "        \n",
    "        for j in range(order,0):\n",
    "            tmp = (tmp + pc[j])*x\n",
    "        \n",
    "        # Gradient with respect to theta_i\n",
    "        res[:, i+1] = tmp\n",
    "        \n",
    "    return res\n",
    "    \n",
    "def eval_grad_coeff_sos(p0, alpha=1):\n",
    "    \"\"\"\n",
    "    Calculate dp/dtheta\n",
    "    \n",
    "    \"\"\"\n",
    "    delta = p0[0]\n",
    "    degree = (len(p0)-1)//2\n",
    "\n",
    "    res = [0]*2*degree\n",
    "    \n",
    "    res[0] = p0[1:1+degree] # Beta 1\n",
    "    res[degree] = p0[1+degree:] # Beta 2\n",
    "    \n",
    "    if degree > 1:\n",
    "        for i in range(1, degree):\n",
    "            res[i] = [0] + res[i-1]\n",
    "            res[i+degree] = [0] + res[degree+i-1]\n",
    "\n",
    "    for i in range(len(res)):\n",
    "        res[i] = 2*alpha*np.array(res[i])/np.arange(1, len(res[i])+1)\n",
    "\n",
    "    return res\n",
    "\n",
    "\n",
    "def get_jac(x):\n",
    "    \n",
    "    def jac(args, alpha=1):\n",
    "            \"\"\"\n",
    "            nb alpha = 1 for monotone increasing\n",
    "            in the paper degree = ql\n",
    "            \"\"\"\n",
    "\n",
    "            # define args = delta, beta_1, beta_2\n",
    "            delta = args[0]\n",
    "            degree = (len(args)-1)//2\n",
    "\n",
    "            grad_out = [np.ones_like(x)]\n",
    "\n",
    "            for l in [1,2]:\n",
    "                for j in range(degree):\n",
    "                    _grad = np.zeros_like(x, dtype='float64')\n",
    "                    for k in range(degree):\n",
    "                        pow_x = np.power(x, (j+k+1)) / (k+j+1)\n",
    "                        _grad += args[l*k]*pow_x\n",
    "                    grad_out.append(2*alpha*_grad)\n",
    "\n",
    "            return np.array(grad_out)\n",
    "\n",
    "    return jac"
   ]
  },
  {
   "cell_type": "code",
   "execution_count": 160,
   "metadata": {},
   "outputs": [
    {
     "data": {
      "text/plain": [
       "<matplotlib.legend.Legend at 0x7fbcf60fbf10>"
      ]
     },
     "execution_count": 160,
     "metadata": {},
     "output_type": "execute_result"
    },
    {
     "data": {
      "image/png": "[encoded data removed]",
      "text/plain": [
       "<Figure size 432x288 with 1 Axes>"
      ]
     },
     "metadata": {
      "needs_background": "light"
     },
     "output_type": "display_data"
    }
   ],
   "source": [
    "x = np.arange(50)\n",
    "degree = 4\n",
    "\n",
    "a = 20\n",
    "b = 2*np.random.random()\n",
    "c = 3*np.random.random()\n",
    "\n",
    "y = a + b*x + c*x**2 + 25*np.random.random((len(x)))\n",
    "\n",
    "norm_x = x / x.std()\n",
    "norm_y = y / y.std()\n",
    "\n",
    "objective_func = make_rss(norm_x, norm_y)\n",
    "grad = make_grad(norm_x, norm_y)\n",
    "\n",
    "p0 = np.ones(2*degree+1)\n",
    "p0[0] = 0.5\n",
    "\n",
    "res = minimize(objective_func, method='Newton-CG', x0=p0, jac=grad)\n",
    "\n",
    "plt.plot(norm_x, norm_y, \".\", label='data')\n",
    "plt.plot(norm_x, eval_pol_sos(norm_x, res.x), label='fit')\n",
    "plt.legend()"
   ]
  },
  {
   "cell_type": "code",
   "execution_count": 15,
   "metadata": {},
   "outputs": [
    {
     "data": {
      "text/plain": [
       "<matplotlib.legend.Legend at 0x7fbcfb085950>"
      ]
     },
     "execution_count": 15,
     "metadata": {},
     "output_type": "execute_result"
    },
    {
     "data": {
      "image/png": "[encoded data removed]",
      "text/plain": [
       "<Figure size 720x720 with 1 Axes>"
      ]
     },
     "metadata": {
      "needs_background": "light"
     },
     "output_type": "display_data"
    }
   ],
   "source": [
    "delta = 0 # zero\n",
    "c10 = 0\n",
    "c11 = math.sqrt(2)\n",
    "c21 = 0\n",
    "c22 = math.sqrt(2.1)\n",
    "\n",
    "p0 = [delta, c10, c11, c21, c22]\n",
    "\n",
    "grad = make_grad(x, y)\n",
    "rss = make_rss(x, y)\n",
    "\n",
    "plt.figure(figsize=(10,10))\n",
    "plt.plot(x, y, label='data')\n",
    "plt.plot(x, eval_pol_sos(x, p0), label='fit')\n",
    "plt.plot((y-eval_pol_sos(x, p0))**2, label='res')\n",
    "plt.legend()"
   ]
  },
  {
   "cell_type": "code",
   "execution_count": null,
   "metadata": {},
   "outputs": [],
   "source": []
  },
  {
   "cell_type": "code",
   "execution_count": null,
   "metadata": {},
   "outputs": [],
   "source": [
    "grad(p0)"
   ]
  },
  {
   "cell_type": "code",
   "execution_count": null,
   "metadata": {},
   "outputs": [],
   "source": [
    "eval_grad_coeff_sos(p0)"
   ]
  },
  {
   "cell_type": "code",
   "execution_count": null,
   "metadata": {},
   "outputs": [],
   "source": []
  }
 ],
 "metadata": {
  "kernelspec": {
   "display_name": "Python 3",
   "language": "python",
   "name": "python3"
  },
  "language_info": {
   "codemirror_mode": {
    "name": "ipython",
    "version": 3
   },
   "file_extension": ".py",
   "mimetype": "text/x-python",
   "name": "python",
   "nbconvert_exporter": "python",
   "pygments_lexer": "ipython3",
   "version": "3.7.6"
  }
 },
 "nbformat": 4,
 "nbformat_minor": 4
}
